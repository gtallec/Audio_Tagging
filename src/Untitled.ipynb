{
 "cells": [
  {
   "cell_type": "markdown",
   "metadata": {},
   "source": [
    "# Article Review : Unsupervised Feature learning Based on Deep Models for Environmental Audio Tagging"
   ]
  },
  {
   "cell_type": "markdown",
   "metadata": {},
   "source": [
    "## Authors : TALLEC Gauthier, ZIMMER Romain"
   ]
  },
  {
   "cell_type": "code",
   "execution_count": 2,
   "metadata": {},
   "outputs": [],
   "source": [
    "##Feature extraction\n",
    "from python_speech_features import logfbank, mfcc\n",
    "\n",
    "\n",
    "\n",
    "from keras.models import Sequential\n",
    "from keras.layers import Dense, Activation\n",
    "from keras.layers import Dropout\n",
    "from keras.optimizers import SGD, Adam\n",
    "from keras.utils import np_utils\n",
    "from keras.models import model_from_yaml\n",
    "\n"
   ]
  },
  {
   "cell_type": "markdown",
   "metadata": {},
   "source": [
    "### Data Loading"
   ]
  },
  {
   "cell_type": "markdown",
   "metadata": {},
   "source": [
    "### 1. Feature Extraction"
   ]
  },
  {
   "cell_type": "code",
   "execution_count": null,
   "metadata": {},
   "outputs": [],
   "source": []
  },
  {
   "cell_type": "markdown",
   "metadata": {},
   "source": [
    "### 2. DNN Network"
   ]
  },
  {
   "cell_type": "code",
   "execution_count": 8,
   "metadata": {},
   "outputs": [
    {
     "name": "stdout",
     "output_type": "stream",
     "text": [
      "_________________________________________________________________\n",
      "Layer (type)                 Output Shape              Param #   \n",
      "=================================================================\n",
      "dropout_8 (Dropout)          (None, 2000, 2)           0         \n",
      "_________________________________________________________________\n",
      "dense_14 (Dense)             (None, 2000, 1000)        3000      \n",
      "_________________________________________________________________\n",
      "dropout_9 (Dropout)          (None, 2000, 1000)        0         \n",
      "_________________________________________________________________\n",
      "dense_15 (Dense)             (None, 2000, 500)         500500    \n",
      "_________________________________________________________________\n",
      "dense_16 (Dense)             (None, 2000, 7)           3507      \n",
      "=================================================================\n",
      "Total params: 507,007\n",
      "Trainable params: 507,007\n",
      "Non-trainable params: 0\n",
      "_________________________________________________________________\n"
     ]
    }
   ],
   "source": [
    "##Architecture Params##\n",
    "input_shape = (2000,2) #TODO : REAL VALUE\n",
    "\n",
    "hidden_unit_1 = 1000\n",
    "hidden_unit_2 = 500\n",
    "output_unit = 7\n",
    "\n",
    "drop_out_1 = 0.1\n",
    "drop_out_2 = 0.2\n",
    "#######################\n",
    "\n",
    "##DNN network model\n",
    "DNN_model = Sequential()\n",
    "\n",
    "#First layer\n",
    "DNN_model.add(Dropout(drop_out_1, input_shape = input_shape))\n",
    "DNN_model.add(Dense(hidden_unit_1, activation = 'relu'))\n",
    "\n",
    "#Second layer\n",
    "DNN_model.add(Dropout(drop_out_2))\n",
    "DNN_model.add(Dense(hidden_unit_2, activation = 'relu'))\n",
    "\n",
    "#Output layer\n",
    "DNN_model.add(Dense(output_unit, activation = 'sigmoid'))\n",
    "DNN_model.summary()"
   ]
  },
  {
   "cell_type": "code",
   "execution_count": null,
   "metadata": {},
   "outputs": [],
   "source": [
    "##Optimization Params##\n",
    "learning_rate = 0.005\n",
    "momentum = 0.9\n",
    "batch_size = 100\n",
    "nb_epoch = 100\n",
    "########################\n",
    "\n",
    "sgd = optimizers.SGD(lr=learning_rate, momentum=momentum)\n",
    "\"\"\"\n",
    "TODO : Code equal error rate and add it to custom metrics.\n",
    "EER is just the threshold value for which FN = 1 - FP\n",
    "\"\"\"\n",
    "model.compile(loss='categorical_crossentropy',optimizer=sgd,metrics=['accuracy'])\n"
   ]
  },
  {
   "cell_type": "markdown",
   "metadata": {},
   "source": [
    "### 3. Asy/syDAE Network"
   ]
  },
  {
   "cell_type": "code",
   "execution_count": 10,
   "metadata": {},
   "outputs": [
    {
     "name": "stdout",
     "output_type": "stream",
     "text": [
      "_________________________________________________________________\n",
      "Layer (type)                 Output Shape              Param #   \n",
      "=================================================================\n",
      "dropout_11 (Dropout)         (None, 100050)            0         \n",
      "_________________________________________________________________\n",
      "dense_21 (Dense)             (None, 500)               50025500  \n",
      "_________________________________________________________________\n",
      "dense_22 (Dense)             (None, 50)                25050     \n",
      "_________________________________________________________________\n",
      "dense_23 (Dense)             (None, 500)               25500     \n",
      "_________________________________________________________________\n",
      "dense_24 (Dense)             (None, 50)                25050     \n",
      "=================================================================\n",
      "Total params: 50,101,100\n",
      "Trainable params: 50,101,100\n",
      "Non-trainable params: 0\n",
      "_________________________________________________________________\n"
     ]
    }
   ],
   "source": [
    "#AsyDAE\n",
    "##Architecture Params##\n",
    "number_of_speech_features = 50 #TODO : REAL VALUE\n",
    "input_shape = (2001 * number_of_speech_features,)\n",
    "\n",
    "hidden_unit_1 = 500\n",
    "hidden_unit_2 = 50\n",
    "hidden_unit_3 = 500\n",
    "output_unit = number_of_speech_features\n",
    "\n",
    "drop_out_1 = 0.1\n",
    "#######################\n",
    "asy_model = Sequential()\n",
    "\n",
    "#First layer\n",
    "asy_model.add(Dropout(drop_out_1, input_shape = input_shape))\n",
    "asy_model.add(Dense(hidden_unit_1, activation = 'relu'))\n",
    "\n",
    "#Second layer : Coding Layer\n",
    "asy_model.add(Dense(hidden_unit_2, activation = 'relu'))\n",
    "\n",
    "#Third layer\n",
    "asy_model.add(Dense(hidden_unit_3, activation = 'relu'))\n",
    "\n",
    "#Output_layer\n",
    "asy_model.add(Dense(output_unit, activation = 'relu'))\n",
    "asy_model.summary()"
   ]
  },
  {
   "cell_type": "code",
   "execution_count": 12,
   "metadata": {},
   "outputs": [
    {
     "name": "stdout",
     "output_type": "stream",
     "text": [
      "_________________________________________________________________\n",
      "Layer (type)                 Output Shape              Param #   \n",
      "=================================================================\n",
      "dropout_13 (Dropout)         (None, 100050)            0         \n",
      "_________________________________________________________________\n",
      "dense_29 (Dense)             (None, 500)               50025500  \n",
      "_________________________________________________________________\n",
      "dense_30 (Dense)             (None, 200)               100200    \n",
      "_________________________________________________________________\n",
      "dense_31 (Dense)             (None, 500)               100500    \n",
      "_________________________________________________________________\n",
      "dense_32 (Dense)             (None, 100050)            50125050  \n",
      "=================================================================\n",
      "Total params: 100,351,250\n",
      "Trainable params: 100,351,250\n",
      "Non-trainable params: 0\n",
      "_________________________________________________________________\n"
     ]
    }
   ],
   "source": [
    "#SyDae\n",
    "##Architecture Params##\n",
    "number_of_speech_features = 50 #TODO : REAL VALUE\n",
    "input_shape = (2001 * number_of_speech_features,)\n",
    "\n",
    "hidden_unit_1 = 500\n",
    "hidden_unit_2 = 200\n",
    "hidden_unit_3 = 500\n",
    "output_unit = input_shape[0]\n",
    "\n",
    "drop_out_1 = 0.1\n",
    "#######################\n",
    "sy_model = Sequential()\n",
    "\n",
    "#First layer\n",
    "sy_model.add(Dropout(drop_out_1, input_shape = input_shape))\n",
    "sy_model.add(Dense(hidden_unit_1, activation = 'relu'))\n",
    "\n",
    "#Second layer : Coding Layer\n",
    "sy_model.add(Dense(hidden_unit_2, activation = 'relu'))\n",
    "\n",
    "#Third layer\n",
    "sy_model.add(Dense(hidden_unit_3, activation = 'relu'))\n",
    "\n",
    "#Output_layer\n",
    "sy_model.add(Dense(output_unit, activation = 'relu'))\n",
    "sy_model.summary()"
   ]
  }
 ],
 "metadata": {
  "kernelspec": {
   "display_name": "Python (audio_env)",
   "language": "python",
   "name": "audio"
  },
  "language_info": {
   "codemirror_mode": {
    "name": "ipython",
    "version": 3
   },
   "file_extension": ".py",
   "mimetype": "text/x-python",
   "name": "python",
   "nbconvert_exporter": "python",
   "pygments_lexer": "ipython3",
   "version": "3.5.6"
  }
 },
 "nbformat": 4,
 "nbformat_minor": 2
}
